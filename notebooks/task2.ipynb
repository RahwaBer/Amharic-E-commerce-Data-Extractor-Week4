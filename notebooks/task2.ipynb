{
 "cells": [
  {
   "cell_type": "code",
   "execution_count": 3,
   "id": "0e9e397f",
   "metadata": {},
   "outputs": [
    {
     "name": "stdout",
     "output_type": "stream",
     "text": [
      "✅ CoNLL-formatted file created: labeled_data_template.conll.txt\n"
     ]
    }
   ],
   "source": [
    "import pandas as pd\n",
    "\n",
    "# Load the cleaned dataset\n",
    "df = pd.read_csv(\"../src/structured_telegram_data.csv\")\n",
    "\n",
    "# Limit for labeling\n",
    "n_samples = 30  # or 50\n",
    "\n",
    "# Generate CoNLL formatted text\n",
    "conll_lines = []\n",
    "\n",
    "for _, row in df.head(n_samples).iterrows():\n",
    "    tokens = eval(row['tokens'])  # convert string representation of list back to list\n",
    "    for token in tokens:\n",
    "        conll_lines.append(f\"{token} O\")\n",
    "    conll_lines.append(\"\")  # blank line to separate messages\n",
    "\n",
    "# Save to file\n",
    "with open(\"labeled_data_template.conll.txt\", \"w\", encoding=\"utf-8\") as f:\n",
    "    f.write(\"\\n\".join(conll_lines))\n",
    "\n",
    "print(\"✅ CoNLL-formatted file created: labeled_data_template.conll.txt\")\n"
   ]
  }
 ],
 "metadata": {
  "kernelspec": {
   "display_name": "Python 3",
   "language": "python",
   "name": "python3"
  },
  "language_info": {
   "codemirror_mode": {
    "name": "ipython",
    "version": 3
   },
   "file_extension": ".py",
   "mimetype": "text/x-python",
   "name": "python",
   "nbconvert_exporter": "python",
   "pygments_lexer": "ipython3",
   "version": "3.13.3"
  }
 },
 "nbformat": 4,
 "nbformat_minor": 5
}
